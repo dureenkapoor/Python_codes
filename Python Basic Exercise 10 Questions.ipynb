{
 "cells": [
  {
   "cell_type": "markdown",
   "metadata": {},
   "source": [
    "### Python Basic Programming Exercise"
   ]
  },
  {
   "cell_type": "code",
   "execution_count": null,
   "metadata": {
    "collapsed": true
   },
   "outputs": [],
   "source": [
    "#1: Write a program which will find all such numbers which are divisible by 7 but are not a multiple of 5, between 2000 and 3200 (both included).\n",
    "#The numbers obtained should be printed in a comma-separated sequence on a single line.\n",
    "\n",
    "#Hints: Consider use range(#begin, #end) method\n"
   ]
  },
  {
   "cell_type": "code",
   "execution_count": null,
   "metadata": {
    "collapsed": true
   },
   "outputs": [],
   "source": [
    "l1=range(2000,3201)\n",
    "\n",
    "for x in l1:\n",
    "    if x%7==0 & x%5!=0:\n",
    "        print x"
   ]
  },
  {
   "cell_type": "code",
   "execution_count": null,
   "metadata": {
    "collapsed": true
   },
   "outputs": [],
   "source": [
    "#2. Write a program which can compute the factorial of a given numbers. The results should be printed in a comma-separated sequence on a single line. \n",
    "#raw_input() function can be used for getting user(console) input\n",
    "\n",
    "#Suppose the input is supplied to the program:  8  \n",
    "#Then, the output should be:  40320 \n",
    "#Hints: In case of input data being supplied to the question, it should be assumed to be a console input. \n"
   ]
  },
  {
   "cell_type": "code",
   "execution_count": 5,
   "metadata": {},
   "outputs": [
    {
     "name": "stdout",
     "output_type": "stream",
     "text": [
      "8\n",
      "40320\n"
     ]
    }
   ],
   "source": [
    "def fact(x):\n",
    "    if x==0:\n",
    "        return 1\n",
    "    return x*fact(x-1)\n",
    "x= int(raw_input())\n",
    "print fact(x)\n",
    "    \n"
   ]
  },
  {
   "cell_type": "code",
   "execution_count": 4,
   "metadata": {},
   "outputs": [],
   "source": [
    "#3. With a given integral number n, write a program to generate a dictionary that contains (i, i*i) such that is an integral number between 1 and n (both included). and then the program should print the dictionary.\n",
    "#Suppose the following input is supplied to the program: 8\n",
    "#Then, the output should be: {1: 1, 2: 4, 3: 9, 4: 16, 5: 25, 6: 36, 7: 49, 8: 64}\n",
    "#Hints: In case of input data being supplied to the question, it should be assumed to be a console input. Consider use dict()\n",
    "\n"
   ]
  },
  {
   "cell_type": "code",
   "execution_count": 6,
   "metadata": {},
   "outputs": [
    {
     "name": "stdout",
     "output_type": "stream",
     "text": [
      "5\n",
      "{1: 1, 2: 4, 3: 9, 4: 16, 5: 25}\n"
     ]
    }
   ],
   "source": [
    "n=int (raw_input())\n",
    "d=dict()\n",
    "for i in range (1, n+1):\n",
    "    d[i]= i*i\n",
    "print d"
   ]
  },
  {
   "cell_type": "code",
   "execution_count": null,
   "metadata": {
    "collapsed": true
   },
   "outputs": [],
   "source": [
    "#4. Write a program which accepts a sequence of comma-separated numbers from console and generate a list and a tuple which contains every number.\n",
    "#Suppose the following input is supplied to the program: 34,67,55,33,12,98\n",
    "#Then, the output should be: ['34', '67', '55', '33', '12', '98'] ('34', '67', '55', '33', '12', '98')\n",
    "\n",
    "#Hints: In case of input data being supplied to the question, it should be assumed to be a console input. tuple() method can convert list to tuple\n"
   ]
  },
  {
   "cell_type": "code",
   "execution_count": 7,
   "metadata": {},
   "outputs": [
    {
     "name": "stdout",
     "output_type": "stream",
     "text": [
      "1,2,3,4,5\n",
      "['1', '2', '3', '4', '5']\n",
      "('1', '2', '3', '4', '5')\n"
     ]
    }
   ],
   "source": [
    "values= raw_input()\n",
    "l= values.split(\",\")\n",
    "t= tuple(l)\n",
    "print(l)\n",
    "print(t)"
   ]
  },
  {
   "cell_type": "code",
   "execution_count": null,
   "metadata": {
    "collapsed": true
   },
   "outputs": [],
   "source": [
    "#5. Define a class which has at least two methods: getString: to get a string from console input and \n",
    "#printString: to print the string in upper case. Also please include simple test function to test the class methods.\n",
    "\n",
    "#Hints: Use __init__ method to construct some parameters\n"
   ]
  },
  {
   "cell_type": "code",
   "execution_count": 8,
   "metadata": {},
   "outputs": [],
   "source": [
    "class iostring:\n",
    "    def _init_(self):\n",
    "        self.s=\"\"\n",
    "    def getString(self):\n",
    "        self.s=raw_input()\n",
    "    def printString(self):\n",
    "        print self.s.upper()"
   ]
  },
  {
   "cell_type": "code",
   "execution_count": 9,
   "metadata": {},
   "outputs": [
    {
     "name": "stdout",
     "output_type": "stream",
     "text": [
      "Hello World\n"
     ]
    }
   ],
   "source": [
    "newobj = iostring()\n",
    "newobj.getString()"
   ]
  },
  {
   "cell_type": "code",
   "execution_count": 10,
   "metadata": {},
   "outputs": [
    {
     "name": "stdout",
     "output_type": "stream",
     "text": [
      "HELLO WORLD\n"
     ]
    }
   ],
   "source": [
    "newobj.printString()"
   ]
  },
  {
   "cell_type": "code",
   "execution_count": null,
   "metadata": {
    "collapsed": true
   },
   "outputs": [],
   "source": [
    "#6. Write a program that accepts a comma separated sequence of words as input and prints the words in a comma-separated sequence after sorting them alphabetically.\n",
    "# Suppose the following input is supplied to the program: without,hello,bag,world\n",
    "# Then, the output should be: bag,hello,without,world\n",
    "\n",
    "#Hints: In case of input data being supplied to the question, it should be assumed to be a console input.\n"
   ]
  },
  {
   "cell_type": "code",
   "execution_count": 19,
   "metadata": {
    "scrolled": true
   },
   "outputs": [
    {
     "name": "stdout",
     "output_type": "stream",
     "text": [
      "what,is,this\n",
      "is,this,what\n"
     ]
    }
   ],
   "source": [
    "items= [x for x in raw_input().split(',')]\n",
    "items.sort()\n",
    "print ','.join(items)"
   ]
  },
  {
   "cell_type": "code",
   "execution_count": null,
   "metadata": {
    "collapsed": true
   },
   "outputs": [],
   "source": [
    "#7. Write a program that accepts a sequence of whitespace separated words as input and prints the words after removing all duplicate words and sorting them alphanumerically.\n",
    "# Suppose the following input is supplied to the program: hello world and practice makes perfect and hello world again\n",
    "# Then, the output should be: again and hello makes perfect practice world\n",
    "\n",
    "#Hints: In case of input data being supplied to the question, it should be assumed to be a console input.\n",
    "#We use set container to remove duplicated data automatically and then use sorted() to sort the data.\n"
   ]
  },
  {
   "cell_type": "code",
   "execution_count": 20,
   "metadata": {},
   "outputs": [
    {
     "name": "stdout",
     "output_type": "stream",
     "text": [
      "My name is Kiara and I love pizza is my tagline\n",
      "I Kiara My and is love my name pizza tagline\n"
     ]
    }
   ],
   "source": [
    "s= raw_input()\n",
    "words = [word for word in s.split(\" \")]\n",
    "print \" \".join(sorted(list(set(words))))"
   ]
  },
  {
   "cell_type": "code",
   "execution_count": null,
   "metadata": {
    "collapsed": true
   },
   "outputs": [],
   "source": [
    "#8. Write a program that accepts a sentence and calculate the number of upper case letters and lower case letters.\n",
    "#Suppose the following input is supplied to the program: Hello world!\n",
    "#Then, the output should be: UPPER CASE 1 LOWER CASE 9\n",
    "\n",
    "#Hints: In case of input data being supplied to the question, it should be assumed to be a console input.\n"
   ]
  },
  {
   "cell_type": "code",
   "execution_count": null,
   "metadata": {
    "collapsed": true
   },
   "outputs": [],
   "source": []
  },
  {
   "cell_type": "code",
   "execution_count": null,
   "metadata": {
    "collapsed": true
   },
   "outputs": [],
   "source": [
    "#9. A website requires the users to input username and password to register. Write a program to check the validity of password\n",
    "#input by users. Following are the criteria for checking the password:\n",
    "#1. At least 1 letter between [a-z]\n",
    "#2. At least 1 number between [0-9]\n",
    "#1. At least 1 letter between [A-Z]\n",
    "#3. At least 1 character from [$#@]\n",
    "#4. Minimum length of transaction password: 6\n",
    "#5. Maximum length of transaction password: 12\n",
    "#Your program should accept a sequence of comma separated passwords and will check them according to the above criteria. \n",
    "#Passwords that match the criteria are to be printed, each separated by a comma.\n",
    "#Example. If the following passwords are given as input to the program: ABd1234@1,a F1#,2w3E*,2We3345\n",
    "#Then, the output of the program should be: ABd1234@1\n",
    "\n",
    "# You can use module called re\n",
    "#Hints: In case of input data being supplied to the question, it should be assumed to be a console input.\n",
    "\n"
   ]
  },
  {
   "cell_type": "code",
   "execution_count": 9,
   "metadata": {},
   "outputs": [
    {
     "name": "stdout",
     "output_type": "stream",
     "text": [
      "Enter comma-separated passwords: bloop, hola@12migo, Cla123hole!\n",
      "\n"
     ]
    }
   ],
   "source": [
    "special_str = \"$#@\"\n",
    "accepted = []\n",
    "\n",
    "passwords = raw_input(\"Enter comma-separated passwords: \").split(',')\n",
    "\n",
    "for password in passwords:\n",
    "\n",
    " lower = 0\n",
    " upper = 0\n",
    " digits = 0\n",
    " special = 0\n",
    "\n",
    "for char in password:\n",
    "\n",
    "    if char.islower():\n",
    "         lower += 1\n",
    "    elif char.isupper():\n",
    "         upper += 1\n",
    "    elif char.isdigit():\n",
    "         digits += 1\n",
    "    elif special_str.find(char) != -1:\n",
    "         special += 1\n",
    "\n",
    "    if lower >= 1 and upper >= 1 and digits >= 1 and special >= 1 and len(password) in range(6,13):\n",
    "        \n",
    "\n",
    "        accepted.append(password)\n",
    "\n",
    "print \",\".join(accepted)"
   ]
  },
  {
   "cell_type": "code",
   "execution_count": 10,
   "metadata": {},
   "outputs": [],
   "source": [
    "#10. Python has many built-in functions, and if you do not know how to use it, you can read document online or find some books.\n",
    "#But Python has a built-in document function for every built-in functions.\n",
    "#Please write a program to print some Python built-in functions documents, such as abs(), int(), raw_input()\n",
    "#And add document for your own function\n",
    "    \n",
    "#Hints: The built-in document method is __doc__\n"
   ]
  },
  {
   "cell_type": "code",
   "execution_count": 30,
   "metadata": {
    "scrolled": true
   },
   "outputs": [
    {
     "name": "stdout",
     "output_type": "stream",
     "text": [
      "abs(number) -> number\n",
      "\n",
      "Return the absolute value of the argument.\n",
      "int(x=0) -> int or long\n",
      "int(x, base=10) -> int or long\n",
      "\n",
      "Convert a number or string to an integer, or return 0 if no arguments\n",
      "are given.  If x is floating point, the conversion truncates towards zero.\n",
      "If x is outside the integer range, the function returns a long instead.\n",
      "\n",
      "If x is not a number or if base is given, then x must be a string or\n",
      "Unicode object representing an integer literal in the given base.  The\n",
      "literal can be preceded by '+' or '-' and be surrounded by whitespace.\n",
      "The base defaults to 10.  Valid bases are 0 and 2-36.  Base 0 means to\n",
      "interpret the base from the string as an integer literal.\n",
      ">>> int('0b100', base=0)\n",
      "4\n",
      "Forward raw_input to frontends\n",
      "\n",
      "        Raises\n",
      "        ------\n",
      "        StdinNotImplentedError if active frontend doesn't support stdin.\n",
      "        \n",
      "4\n",
      "Return the square value of the input number.\n",
      "    \n",
      "    The input number must be integer.\n",
      "    \n"
     ]
    }
   ],
   "source": [
    "print abs.__doc__\n",
    "print int.__doc__\n",
    "print raw_input.__doc__\n",
    "\n",
    "def square(num):\n",
    "    '''Return the square value of the input number.\n",
    "    \n",
    "    The input number must be integer.\n",
    "    '''\n",
    "    return num ** 2\n",
    "\n",
    "print square(2)\n",
    "print square.__doc__\n"
   ]
  },
  {
   "cell_type": "code",
   "execution_count": null,
   "metadata": {},
   "outputs": [],
   "source": []
  }
 ],
 "metadata": {
  "kernelspec": {
   "display_name": "Python 2",
   "language": "python",
   "name": "python2"
  },
  "language_info": {
   "codemirror_mode": {
    "name": "ipython",
    "version": 2
   },
   "file_extension": ".py",
   "mimetype": "text/x-python",
   "name": "python",
   "nbconvert_exporter": "python",
   "pygments_lexer": "ipython2",
   "version": "2.7.15"
  }
 },
 "nbformat": 4,
 "nbformat_minor": 2
}
